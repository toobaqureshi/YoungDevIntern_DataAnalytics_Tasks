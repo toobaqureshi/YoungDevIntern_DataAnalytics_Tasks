{
 "cells": [
  {
   "cell_type": "markdown",
   "id": "597610f2",
   "metadata": {},
   "source": [
    "# MODEL CREATION"
   ]
  },
  {
   "cell_type": "code",
   "execution_count": null,
   "id": "72465599",
   "metadata": {},
   "outputs": [],
   "source": [
    "import pandas as pd\n",
    "import sklearn\n",
    "import matplotlib\n",
    "import numpy as np\n",
    "import os"
   ]
  },
  {
   "cell_type": "code",
   "execution_count": null,
   "id": "6af5ed69",
   "metadata": {},
   "outputs": [],
   "source": [
    "dataset_path = 'G:\\\\Tooba\\\\Toobaz_Docs\\\\YoungDev-Internship\\\\Dataset.xlsx'\n",
    "if os.path.exists(dataset_path):\n",
    "    file_path = pd.read_excel(dataset_path, header=2)\n",
    "    print(\"Successfully Read Dataset File\")\n",
    "    \n",
    "    file_path = file_path.loc[:, ~file_path.columns.str.contains('^Unnamed')]\n",
    "    print(\"\\n Enlist few rows of dataset:\\n\", file_path.head())\n",
    "    \n",
    "    \n",
    "else:\n",
    "    print(\"Error While reading file\")   "
   ]
  },
  {
   "cell_type": "code",
   "execution_count": null,
   "id": "bece6c07",
   "metadata": {},
   "outputs": [],
   "source": [
    "file_path.isnull().sum()"
   ]
  },
  {
   "cell_type": "code",
   "execution_count": null,
   "id": "c739dec4",
   "metadata": {},
   "outputs": [],
   "source": [
    "file_path.dropna(axis = 1, how = 'all')"
   ]
  },
  {
   "cell_type": "code",
   "execution_count": null,
   "id": "f27eac1c",
   "metadata": {},
   "outputs": [],
   "source": [
    "file_path.columns = [\"Ticker\", \"Date\", \"Open\", \"High\", \"Low\", \"Close\", \"Adj_Close\", \"Volume\"]"
   ]
  },
  {
   "cell_type": "code",
   "execution_count": null,
   "id": "61316267",
   "metadata": {},
   "outputs": [],
   "source": [
    "dataset_cleaned = file_path.dropna(subset=[\"Date\", \"Open\", \"Close\", \"High\"])\n"
   ]
  },
  {
   "cell_type": "code",
   "execution_count": null,
   "id": "13dd3908",
   "metadata": {},
   "outputs": [],
   "source": [
    "dataset_cleaned[\"Date\"] = pd.to_datetime(dataset_cleaned[\"Date\"])"
   ]
  },
  {
   "cell_type": "code",
   "execution_count": null,
   "id": "5587fed1",
   "metadata": {},
   "outputs": [],
   "source": [
    "dataset_cleaned.reset_index(drop = True, inplace= True)"
   ]
  },
  {
   "cell_type": "code",
   "execution_count": null,
   "id": "8eed279a",
   "metadata": {},
   "outputs": [],
   "source": [
    "dataset_cleaned.isnull().sum()"
   ]
  },
  {
   "cell_type": "code",
   "execution_count": null,
   "id": "0e31876d",
   "metadata": {},
   "outputs": [],
   "source": [
    "from sklearn.model_selection import train_test_split\n",
    "from sklearn.ensemble import RandomForestRegressor\n",
    "from sklearn.metrics import mean_squared_error\n",
    "\n",
    "dataset_cleaned[\"Day\"] = dataset_cleaned[\"Date\"].dt.dayofyear\n",
    "x = dataset_cleaned[[\"Open\", \"High\", \"Low\", \"Volume\", \"Day\"]]  # Features\n",
    "y = dataset_cleaned[\"Close\"]\n",
    "\n",
    "x_train, y_train, x_test, y_test = train_test_split(x,y, train_size = 0.2, random_state = 42)\n"
   ]
  },
  {
   "cell_type": "code",
   "execution_count": null,
   "id": "368c5381",
   "metadata": {},
   "outputs": [],
   "source": [
    "Model = RandomForestRegressor(n_estimators = 100, random_state = 42)"
   ]
  },
  {
   "cell_type": "code",
   "execution_count": null,
   "id": "f807a89e",
   "metadata": {},
   "outputs": [],
   "source": [
    "Model.fit(x_train, y_train)\n",
    "\n",
    "y_predict = Model.predict(x_test)"
   ]
  },
  {
   "cell_type": "code",
   "execution_count": null,
   "id": "1a2aeba8",
   "metadata": {},
   "outputs": [],
   "source": [
    "#dataset_cleaned[\"Day\"] = dataset_cleaned[\"Date\"].dt.dayofyear\n",
    "x = dataset_cleaned[[\"Open\", \"High\", \"Low\", \"Volume\", \"Date]  # Features\n",
    "y = dataset_cleaned[\"Close\"]\n",
    "\n",
    "x = x.loc[y.index]"
   ]
  },
  {
   "cell_type": "code",
   "execution_count": null,
   "id": "da30ccc4",
   "metadata": {},
   "outputs": [],
   "source": [
    "x_train, y_train, x_test, y_test = train_test_split(x,y, test_size=0.2, random_state=42)"
   ]
  },
  {
   "cell_type": "code",
   "execution_count": null,
   "id": "d3ff869b",
   "metadata": {},
   "outputs": [],
   "source": [
    "Model.fit(x_train, y_train)"
   ]
  },
  {
   "cell_type": "code",
   "execution_count": null,
   "id": "64082481",
   "metadata": {},
   "outputs": [],
   "source": [
    "X = X.loc[y.index]\n",
    "X = X.fillna(X.mean())\n",
    "y = y.fillna(y.mean())\n",
    "\n",
    "X_train, X_test, y_train, y_test = train_test_split(X, y, test_size=0.2, random_state=42)\n"
   ]
  },
  {
   "cell_type": "code",
   "execution_count": null,
   "id": "23a4a8a2",
   "metadata": {},
   "outputs": [],
   "source": [
    "Model.fit(X_train, y_train)\n",
    "\n",
    "# Evaluate the model\n",
    "y_pred = Model.predict(X_test)\n",
    "y_pred"
   ]
  },
  {
   "cell_type": "code",
   "execution_count": null,
   "id": "512bee8f",
   "metadata": {},
   "outputs": [],
   "source": [
    "rmse = np.sqrt(mean_squared_error(y_test, y_pred))\n",
    "print(\"RMSE:\", rmse)"
   ]
  },
  {
   "cell_type": "code",
   "execution_count": null,
   "id": "84b154fb",
   "metadata": {},
   "outputs": [],
   "source": []
  }
 ],
 "metadata": {
  "kernelspec": {
   "display_name": "Python 3 (ipykernel)",
   "language": "python",
   "name": "python3"
  },
  "language_info": {
   "codemirror_mode": {
    "name": "ipython",
    "version": 3
   },
   "file_extension": ".py",
   "mimetype": "text/x-python",
   "name": "python",
   "nbconvert_exporter": "python",
   "pygments_lexer": "ipython3",
   "version": "3.9.13"
  }
 },
 "nbformat": 4,
 "nbformat_minor": 5
}
